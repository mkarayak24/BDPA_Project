{
  "cells": [
    {
      "cell_type": "code",
      "execution_count": 1,
      "metadata": {
        "id": "PFqXhstjgwFl"
      },
      "outputs": [],
      "source": [
        "# PySpark and others\n",
        "from pyspark.sql import SparkSession\n",
        "from pyspark.sql.functions import col, year, stddev, mean, lit, lead, min as spark_min, max as spark_max\n",
        "from pyspark.ml.feature import VectorAssembler, StandardScaler\n",
        "from pyspark.ml.regression import LinearRegression\n",
        "from pyspark.ml.classification import LogisticRegression, RandomForestClassifier\n",
        "from pyspark.ml import Pipeline\n",
        "from pyspark.ml.linalg import Vectors\n",
        "from pyspark.ml.evaluation import RegressionEvaluator, MulticlassClassificationEvaluator\n",
        "from pyspark.sql import Window\n",
        "from sklearn.metrics import confusion_matrix\n",
        "\n",
        "import matplotlib.pyplot as plt\n",
        "import seaborn as sns\n",
        "import numpy as np\n",
        "import os"
      ]
    },
    {
      "cell_type": "code",
      "execution_count": 2,
      "metadata": {
        "id": "tJMrTj7fivIa"
      },
      "outputs": [],
      "source": [
        "# Initialize SparkSession\n",
        "spark = SparkSession.builder \\\n",
        "    .appName(\"Stock Data Analysis\") \\\n",
        "    .getOrCreate()"
      ]
    },
    {
      "cell_type": "code",
      "execution_count": 3,
      "metadata": {
        "id": "hwhFDkC1a4mN"
      },
      "outputs": [],
      "source": [
        "all_df = spark.read.csv(\"nasdaq100.csv\", header=True, inferSchema=True)"
      ]
    },
    {
      "cell_type": "code",
      "execution_count": 4,
      "metadata": {
        "colab": {
          "base_uri": "https://localhost:8080/"
        },
        "id": "ycUS0YsKbS_1",
        "outputId": "b6a7b07e-8283-4a3f-c88a-9faf873def4f"
      },
      "outputs": [
        {
          "name": "stdout",
          "output_type": "stream",
          "text": [
            "+------+----------+-------+-------+-------+-------+\n",
            "|ticker|      date|   open|   high|    low|  close|\n",
            "+------+----------+-------+-------+-------+-------+\n",
            "|  CSCO|2011-01-03|14.5212| 14.644|14.4741|14.5516|\n",
            "|  CSCO|2011-01-04|14.6116|14.6282|14.4868|14.5722|\n",
            "|  CSCO|2011-01-05|14.6116|14.8089|14.5782| 14.751|\n",
            "|  CSCO|2011-01-06|14.8423|14.8806|14.7422|14.8737|\n",
            "|  CSCO|2011-01-07|14.8089| 14.913|14.7932|14.8904|\n",
            "+------+----------+-------+-------+-------+-------+\n",
            "only showing top 5 rows\n",
            "\n"
          ]
        }
      ],
      "source": [
        "all_df.show(5)"
      ]
    },
    {
      "cell_type": "code",
      "execution_count": 5,
      "metadata": {
        "colab": {
          "base_uri": "https://localhost:8080/"
        },
        "id": "hzhDdb-AkJnB",
        "outputId": "a90ae6e3-b2aa-48a6-bd48-43469f10b3ec"
      },
      "outputs": [
        {
          "name": "stdout",
          "output_type": "stream",
          "text": [
            "+------+\n",
            "|ticker|\n",
            "+------+\n",
            "|  CSCO|\n",
            "|  MCHP|\n",
            "|   ADI|\n",
            "|  GILD|\n",
            "|  MNST|\n",
            "|  INTC|\n",
            "|   MDB|\n",
            "|  INTU|\n",
            "|  CCEP|\n",
            "|  VRTX|\n",
            "|   PDD|\n",
            "|  GEHC|\n",
            "|  COST|\n",
            "|  ISRG|\n",
            "|  ABNB|\n",
            "|   WBD|\n",
            "|  MSTR|\n",
            "|   GFS|\n",
            "|   KDP|\n",
            "|  WDAY|\n",
            "+------+\n",
            "only showing top 20 rows\n",
            "\n",
            "+------+-----+\n",
            "|ticker|count|\n",
            "+------+-----+\n",
            "|  CSCO| 3570|\n",
            "|  MCHP| 3570|\n",
            "|   ADI| 3570|\n",
            "|  GILD| 3570|\n",
            "|  MNST| 3570|\n",
            "|  INTC| 3570|\n",
            "|   MDB| 1859|\n",
            "|  INTU| 3570|\n",
            "|  CCEP| 3570|\n",
            "|  VRTX| 3570|\n",
            "|   PDD| 1667|\n",
            "|  GEHC|  561|\n",
            "|  COST| 3570|\n",
            "|  ISRG| 3570|\n",
            "|  ABNB| 1068|\n",
            "|   WBD| 3570|\n",
            "|  MSTR| 3570|\n",
            "|   GFS|  846|\n",
            "|   KDP| 3570|\n",
            "|  WDAY| 3121|\n",
            "+------+-----+\n",
            "only showing top 20 rows\n",
            "\n"
          ]
        }
      ],
      "source": [
        "# Check distinct tickers\n",
        "all_df.select(\"ticker\").distinct().show()\n",
        "all_df.groupBy(\"ticker\").count().show()"
      ]
    },
    {
      "cell_type": "code",
      "execution_count": 6,
      "metadata": {
        "id": "qwBsOFUQkPWc"
      },
      "outputs": [],
      "source": [
        "# Disruption Periods Filtering\n",
        "stable_period = all_df.filter((col(\"date\") >= \"2017-01-01\") & (col(\"date\") <= \"2017-12-31\"))\n",
        "trade_war_period = all_df.filter((col(\"date\") >= \"2018-01-01\") & (col(\"date\") <= \"2019-12-31\"))\n",
        "covid_period = all_df.filter((col(\"date\") >= \"2020-02-01\") & (col(\"date\") <= \"2020-08-31\"))\n",
        "ukraine_period = all_df.filter((col(\"date\") >= \"2022-02-01\") & (col(\"date\") <= \"2022-12-31\"))\n",
        "\n",
        "# Training set (before 2017)\n",
        "train_period = all_df.filter((col(\"date\") >= \"2011-01-01\") & (col(\"date\") <= \"2016-12-31\"))\n"
      ]
    },
    {
      "cell_type": "code",
      "execution_count": 7,
      "metadata": {
        "colab": {
          "base_uri": "https://localhost:8080/"
        },
        "id": "NmPrKHRGQwaf",
        "outputId": "1f008abc-980c-4824-887b-50f33f9d5728"
      },
      "outputs": [
        {
          "name": "stdout",
          "output_type": "stream",
          "text": [
            "Training set shape: (124166, 6)\n",
            "Test set shape: (21887, 6)\n"
          ]
        }
      ],
      "source": [
        "pandas_df = train_period.toPandas()\n",
        "print(f\"Training set shape: {pandas_df.shape}\")\n",
        "\n",
        "pandas_df = stable_period.toPandas()\n",
        "print(f\"Test set shape: {pandas_df.shape}\")"
      ]
    },
    {
      "cell_type": "code",
      "execution_count": null,
      "metadata": {
        "colab": {
          "base_uri": "https://localhost:8080/"
        },
        "id": "qCo_C9GgD3fF",
        "outputId": "c3a6fcf2-6c71-4dd3-8e3e-5fd75a37fb4a"
      },
      "outputs": [],
      "source": [
        "\"\"\"\n",
        "train_period.select(\"close\").describe().show()\n",
        "train_period.select(\"open\").describe().show()\n",
        "train_period.select(\"high\").describe().show()\n",
        "train_period.select(\"low\").describe().show()\n",
        "\"\"\""
      ]
    },
    {
      "cell_type": "code",
      "execution_count": 8,
      "metadata": {},
      "outputs": [
        {
          "data": {
            "text/plain": [
              "124166"
            ]
          },
          "execution_count": 8,
          "metadata": {},
          "output_type": "execute_result"
        }
      ],
      "source": [
        "# Substep 7:\n",
        "\n",
        "# Cache the disruption period DataFrames\n",
        "stable_period.cache()\n",
        "trade_war_period.cache()\n",
        "covid_period.cache()\n",
        "ukraine_period.cache()\n",
        "\n",
        "# Cache the train period for each disruption\n",
        "train_period.cache()\n",
        "\n",
        "# Force caching by doing a small action like counting\n",
        "stable_period.count()\n",
        "trade_war_period.count()\n",
        "covid_period.count()\n",
        "ukraine_period.count()\n",
        "train_period.count()"
      ]
    },
    {
      "cell_type": "code",
      "execution_count": 9,
      "metadata": {},
      "outputs": [
        {
          "name": "stdout",
          "output_type": "stream",
          "text": [
            "+------+----+----+----+---+-----+\n",
            "|ticker|date|open|high|low|close|\n",
            "+------+----+----+----+---+-----+\n",
            "|     0|   0|   0|   0|  0|    0|\n",
            "+------+----+----+----+---+-----+\n",
            "\n"
          ]
        }
      ],
      "source": [
        "# ????\n",
        "# Substep 8.5 : Check for missing values\n",
        "\n",
        "from pyspark.sql.functions import sum\n",
        "\n",
        "# Check missing values for each column in the combined dataset\n",
        "all_df.select([sum(col(c).isNull().cast(\"int\")).alias(c) for c in all_df.columns]).show()"
      ]
    },
    {
      "cell_type": "code",
      "execution_count": 10,
      "metadata": {},
      "outputs": [
        {
          "name": "stdout",
          "output_type": "stream",
          "text": [
            "Missing values in stable period:\n",
            "+------+----+----+----+---+-----+\n",
            "|ticker|date|open|high|low|close|\n",
            "+------+----+----+----+---+-----+\n",
            "|     0|   0|   0|   0|  0|    0|\n",
            "+------+----+----+----+---+-----+\n",
            "\n",
            "Missing values in US-China Trade War testing period:\n",
            "+------+----+----+----+---+-----+\n",
            "|ticker|date|open|high|low|close|\n",
            "+------+----+----+----+---+-----+\n",
            "|     0|   0|   0|   0|  0|    0|\n",
            "+------+----+----+----+---+-----+\n",
            "\n",
            "Missing values in COVID-19 testing period:\n",
            "+------+----+----+----+---+-----+\n",
            "|ticker|date|open|high|low|close|\n",
            "+------+----+----+----+---+-----+\n",
            "|     0|   0|   0|   0|  0|    0|\n",
            "+------+----+----+----+---+-----+\n",
            "\n",
            "Missing values in Russia-Ukraine Conflict testing period:\n",
            "+------+----+----+----+---+-----+\n",
            "|ticker|date|open|high|low|close|\n",
            "+------+----+----+----+---+-----+\n",
            "|     0|   0|   0|   0|  0|    0|\n",
            "+------+----+----+----+---+-----+\n",
            "\n",
            "Missing values in stable period:\n",
            "+------+----+----+----+---+-----+\n",
            "|ticker|date|open|high|low|close|\n",
            "+------+----+----+----+---+-----+\n",
            "|     0|   0|   0|   0|  0|    0|\n",
            "+------+----+----+----+---+-----+\n",
            "\n"
          ]
        }
      ],
      "source": [
        "# ????\n",
        "# Substep 8.6:\n",
        "\n",
        "# For stable period\n",
        "print(\"Missing values in stable period:\")\n",
        "stable_period.select([sum(col(c).isNull().cast(\"int\")).alias(c) for c in stable_period.columns]).show()\n",
        "\n",
        "# For US-China Trade War period\n",
        "print(\"Missing values in US-China Trade War testing period:\")\n",
        "trade_war_period.select([sum(col(c).isNull().cast(\"int\")).alias(c) for c in trade_war_period.columns]).show()\n",
        "\n",
        "# For COVID-19 period\n",
        "print(\"Missing values in COVID-19 testing period:\")\n",
        "covid_period.select([sum(col(c).isNull().cast(\"int\")).alias(c) for c in covid_period.columns]).show()\n",
        "\n",
        "# For Russia-Ukraine Conflict period\n",
        "print(\"Missing values in Russia-Ukraine Conflict testing period:\")\n",
        "ukraine_period.select([sum(col(c).isNull().cast(\"int\")).alias(c) for c in ukraine_period.columns]).show()\n",
        "\n",
        "# For train period\n",
        "print(\"Missing values in stable period:\")\n",
        "train_period.select([sum(col(c).isNull().cast(\"int\")).alias(c) for c in train_period.columns]).show()\n"
      ]
    },
    {
      "cell_type": "code",
      "execution_count": 11,
      "metadata": {},
      "outputs": [],
      "source": [
        "# Alternative Substep 9-12.5 consider all up/down movement \n",
        "\n",
        "from pyspark.sql.window import Window\n",
        "from pyspark.sql.functions import avg, stddev, lag, lead, when\n",
        "\n",
        "# Common window specifications\n",
        "window_spec_5 = Window.partitionBy(\"ticker\").orderBy(\"date\").rowsBetween(-4, 0)\n",
        "window_spec_10 = Window.partitionBy(\"ticker\").orderBy(\"date\").rowsBetween(-9, 0)\n",
        "window_spec_lag = Window.partitionBy(\"ticker\").orderBy(\"date\")\n",
        "window_spec_lead = Window.partitionBy(\"ticker\").orderBy(\"date\")\n",
        "\n",
        "# Function to add all features\n",
        "def add_features(df):\n",
        "    return df \\\n",
        "        .withColumn(\"ma_5\", avg(\"close\").over(window_spec_5)) \\\n",
        "        .withColumn(\"ma_10\", avg(\"close\").over(window_spec_10)) \\\n",
        "        .withColumn(\"volatility_5\", stddev(\"close\").over(window_spec_5)) \\\n",
        "        .withColumn(\"volatility_10\", stddev(\"close\").over(window_spec_10)) \\\n",
        "        .withColumn(\"close_lag1\", lag(\"close\", 1).over(window_spec_lag)) \\\n",
        "        .withColumn(\"open_lag1\", lag(\"open\", 1).over(window_spec_lag)) \\\n",
        "        .withColumn(\"high_lag1\", lag(\"high\", 1).over(window_spec_lag)) \\\n",
        "        .withColumn(\"low_lag1\", lag(\"low\", 1).over(window_spec_lag)) \\\n",
        "        .withColumn(\"return_open_close\", (col(\"close\") - col(\"open\")) / col(\"open\")) \\\n",
        "        .withColumn(\"return_high_low\", (col(\"high\") - col(\"low\")) / col(\"open\")) \\\n",
        "        .withColumn(\"return_close_lag1\", (col(\"close\") - col(\"close_lag1\")) / col(\"close_lag1\")) \\\n",
        "        .withColumn(\"close_lead1\", lead(\"close\", 1).over(window_spec_lead)) \\\n",
        "        .withColumn(\"label_class\", when(col(\"close_lead1\") > col(\"close\"), 1).otherwise(0)) \\\n",
        "        .withColumn(\"label_regress\", (col(\"close_lead1\") - col(\"close\")) / col(\"close\"))\n",
        "\n",
        "# Apply to training set\n",
        "train_period = add_features(train_period)\n",
        "\n",
        "# Apply to each testing set\n",
        "stable_period = add_features(stable_period)\n",
        "trade_war_period = add_features(trade_war_period)\n",
        "covid_period = add_features(covid_period)   \n",
        "ukraine_period = add_features(ukraine_period)   \n",
        "\n"
      ]
    },
    {
      "cell_type": "code",
      "execution_count": 12,
      "metadata": {},
      "outputs": [],
      "source": [
        "#  Substep 13: \n",
        "\n",
        "feature_columns = [\n",
        "    \"open\", \"high\", \"low\", \"close\",\n",
        "    \"ma_5\", \"ma_10\", \"volatility_5\", \"volatility_10\",\n",
        "    \"close_lag1\", \"open_lag1\", \"high_lag1\", \"low_lag1\",\n",
        "    \"return_open_close\", \"return_high_low\", \"return_close_lag1\"\n",
        "]\n",
        "\n",
        "# For classification task\n",
        "classification_columns = feature_columns + [\"label_class\"]\n",
        "\n",
        "# For regression task\n",
        "regression_columns = feature_columns + [\"label_regress\"]\n",
        "\n",
        "# For classification, select only these columns for the training period and disruptions periods\n",
        "train_period_class = train_period.select(classification_columns)\n",
        "stable_period_class = stable_period.select(classification_columns)\n",
        "trade_war_period_class = trade_war_period.select(classification_columns)\n",
        "covid_period_class = covid_period.select(classification_columns)\n",
        "ukraine_period_class = ukraine_period.select(classification_columns)\n",
        "\n",
        "# For regression, select only these columns for the training period and disruptions periods\n",
        "train_period_regress = train_period.select(regression_columns)\n",
        "stable_period_regress = stable_period.select(regression_columns)\n",
        "trade_war_period_regress = trade_war_period.select(regression_columns)\n",
        "covid_period_regress = covid_period.select(regression_columns)\n",
        "ukraine_period_regress = ukraine_period.select(regression_columns)"
      ]
    },
    {
      "cell_type": "code",
      "execution_count": 13,
      "metadata": {},
      "outputs": [],
      "source": [
        "# Substep 14: \n",
        "\n",
        "from pyspark.ml.feature import VectorAssembler\n",
        "\n",
        "# Define assembler\n",
        "assembler = VectorAssembler(\n",
        "    inputCols=feature_columns,\n",
        "    handleInvalid=\"skip\",\n",
        "    outputCol=\"features\"\n",
        ")\n",
        "\n",
        "# Apply the assembler to training dataset for classification\n",
        "train_period_class = assembler.transform(train_period_class)\n",
        "\n",
        "# Apply the assembler for test datasets for classification\n",
        "stable_period_class = assembler.transform(stable_period_class)\n",
        "trade_war_period_class = assembler.transform(trade_war_period_class)\n",
        "covid_period_class = assembler.transform(covid_period_class)\n",
        "ukraine_period_class = assembler.transform(ukraine_period_class)\n",
        "\n",
        "\n",
        "# Apply the assembler for regression datasets\n",
        "train_period_regress = assembler.transform(train_period_regress)\n",
        "\n",
        "# Apply the assembler for regression datasets\n",
        "stable_period_regress = assembler.transform(stable_period_regress)\n",
        "trade_war_period_regress = assembler.transform(trade_war_period_regress)\n",
        "covid_period_regress = assembler.transform(covid_period_regress)\n",
        "ukraine_period_regress = assembler.transform(ukraine_period_regress)"
      ]
    },
    {
      "cell_type": "markdown",
      "metadata": {},
      "source": [
        "### Scaling"
      ]
    },
    {
      "cell_type": "code",
      "execution_count": 14,
      "metadata": {},
      "outputs": [],
      "source": [
        "scaler = StandardScaler(inputCol=\"features\", outputCol=\"scaled_features\", withStd=True, withMean=True)\n",
        "scaler_model = scaler.fit(train_period_class)\n",
        "\n",
        "train_period_class_scaled = scaler_model.transform(train_period_class)\n",
        "stable_period_class_scaled = scaler_model.transform(stable_period_class)\n",
        "trade_war_period_class_scaled = scaler_model.transform(trade_war_period_class)\n",
        "covid_period_class_scaled = scaler_model.transform(covid_period_class)\n",
        "ukraine_period_class_scaled = scaler_model.transform(ukraine_period_class)\n",
        "\n",
        "train_period_regress_scaled = scaler_model.transform(train_period_regress)\n",
        "stable_period_regress_scaled = scaler_model.transform(stable_period_regress)\n",
        "trade_war_period_regress_scaled = scaler_model.transform(trade_war_period_regress)\n",
        "covid_period_regress_scaled = scaler_model.transform(covid_period_regress)\n",
        "ukraine_period_regress_scaled = scaler_model.transform(ukraine_period_regress)\n",
        "\n",
        "\n",
        "\n"
      ]
    },
    {
      "cell_type": "code",
      "execution_count": null,
      "metadata": {},
      "outputs": [],
      "source": [
        "\"\"\"\n",
        "train_period_class_scaled.groupBy(\"direction\").count().orderBy(\"direction\").show()\n",
        "stable_period_class_scaled.groupBy(\"direction\").count().orderBy(\"direction\").show()\n",
        "trade_war_period_class_scaled.groupBy(\"direction\").count().orderBy(\"direction\").show()\n",
        "covid_period_class_scaled.groupBy(\"direction\").count().orderBy(\"direction\").show()\n",
        "ukraine_period_class_scaled.groupBy(\"direction\").count().orderBy(\"direction\").show()\n",
        "\"\"\""
      ]
    },
    {
      "cell_type": "markdown",
      "metadata": {},
      "source": [
        "### Linear Regression (SCALED)"
      ]
    },
    {
      "cell_type": "code",
      "execution_count": null,
      "metadata": {},
      "outputs": [],
      "source": [
        "# test - show rows with  missing vlues\n",
        "#stable_period_regress_scaled.filter(~col(\"label_regress\").cast(\"double\").isNotNull()).show()"
      ]
    },
    {
      "cell_type": "code",
      "execution_count": 15,
      "metadata": {},
      "outputs": [],
      "source": [
        "# remove rows with missing values\n",
        "\n",
        "# for scaled dataset\n",
        "train_period_regress_scaled = train_period_regress_scaled.filter(col(\"label_regress\").cast(\"double\").isNotNull())\n",
        "stable_period_regress_scaled = stable_period_regress_scaled.filter(col(\"label_regress\").cast(\"double\").isNotNull())\n",
        "trade_war_period_regress_scaled = trade_war_period_regress_scaled.filter(col(\"label_regress\").cast(\"double\").isNotNull())\n",
        "covid_period_regress_scaled = covid_period_regress_scaled.filter(col(\"label_regress\").cast(\"double\").isNotNull())\n",
        "ukraine_period_regress_scaled = ukraine_period_regress_scaled.filter(col(\"label_regress\").cast(\"double\").isNotNull())\n",
        "\n",
        "# for unscaled dataset\n",
        "# remove rows with missing values\n",
        "train_period_regress = train_period_regress.filter(col(\"label_regress\").cast(\"double\").isNotNull())\n",
        "stable_period_regress = stable_period_regress.filter(col(\"label_regress\").cast(\"double\").isNotNull())\n",
        "trade_war_period_regress = trade_war_period_regress.filter(col(\"label_regress\").cast(\"double\").isNotNull())\n",
        "covid_period_regress = covid_period_regress.filter(col(\"label_regress\").cast(\"double\").isNotNull())\n",
        "ukraine_period_regress = ukraine_period_regress.filter(col(\"label_regress\").cast(\"double\").isNotNull())"
      ]
    },
    {
      "cell_type": "code",
      "execution_count": 16,
      "metadata": {},
      "outputs": [],
      "source": [
        "# Linear Regression\n",
        "lr = LinearRegression(featuresCol=\"scaled_features\", labelCol=\"label_regress\")\n",
        "lr_model = lr.fit(train_period_regress_scaled)"
      ]
    },
    {
      "cell_type": "code",
      "execution_count": 17,
      "metadata": {},
      "outputs": [
        {
          "name": "stdout",
          "output_type": "stream",
          "text": [
            "+--------------------+--------------------+\n",
            "|       label_regress|          prediction|\n",
            "+--------------------+--------------------+\n",
            "|0.008299207757825779|1.010586399041692...|\n",
            "|-7.86704690726806...|0.001042658259896...|\n",
            "|0.007164649148705921|5.685153654969837E-4|\n",
            "|0.018702730168656784|6.293174033395084E-4|\n",
            "|-0.00230211410812...| 4.99860612965166E-7|\n",
            "+--------------------+--------------------+\n",
            "only showing top 5 rows\n",
            "\n",
            "Train period RMSE: 0.030711238257194497\n",
            "Train period R2: 0.00678785930188841\n",
            "+--------------------+--------------------+\n",
            "|       label_regress|          prediction|\n",
            "+--------------------+--------------------+\n",
            "|0.005175678363822...|9.594421103119289E-4|\n",
            "|0.010961384117537089|7.493267656883297E-4|\n",
            "|0.009146009903646142|5.636851738053296E-4|\n",
            "|0.001074067554897...|6.800518117484162E-4|\n",
            "|0.005364575857614459|8.798913140454622E-4|\n",
            "+--------------------+--------------------+\n",
            "only showing top 5 rows\n",
            "\n",
            "Stable period RMSE: 0.016305635365069977\n",
            "Stable period R2: -0.003796823640024538\n",
            "+--------------------+--------------------+\n",
            "|       label_regress|          prediction|\n",
            "+--------------------+--------------------+\n",
            "|0.004726071059592464|8.222243259535555E-4|\n",
            "|  0.0112673385744081|5.952306553359677E-4|\n",
            "|-0.00342787637529...|4.532122676936425...|\n",
            "|-3.83525296990943...|0.001075937385213...|\n",
            "|-2.38890390332462...|6.730289501536012E-4|\n",
            "+--------------------+--------------------+\n",
            "only showing top 5 rows\n",
            "\n",
            "Trade War period RMSE: 0.021225160315171663\n",
            "Trade War period R2: -0.0041997473032719945\n",
            "+--------------------+--------------------+\n",
            "|       label_regress|          prediction|\n",
            "+--------------------+--------------------+\n",
            "|0.008106917578604177|-2.36998484030357E-4|\n",
            "|0.011739316548727296|-5.83007981698085...|\n",
            "|-0.01359303261348...|2.769452380360995E-4|\n",
            "|0.004732182404121854|0.001117908777876...|\n",
            "|-0.00598681026903...|0.001696660994378...|\n",
            "+--------------------+--------------------+\n",
            "only showing top 5 rows\n",
            "\n",
            "COVID period RMSE: 0.03749525499501932\n",
            "COVID period R2: 0.009342365932368701\n",
            "+--------------------+--------------------+\n",
            "|       label_regress|          prediction|\n",
            "+--------------------+--------------------+\n",
            "|-0.01670794556904...|2.179785142286628...|\n",
            "|-0.00168696845950...|7.121019581436417E-4|\n",
            "|-0.00423620175275...|0.001106790181585...|\n",
            "| 0.01843301792391539| 9.96221570365665E-4|\n",
            "|0.008308482581490508|5.476696590053949E-4|\n",
            "+--------------------+--------------------+\n",
            "only showing top 5 rows\n",
            "\n",
            "Ukraine period RMSE: 0.03149410225567793\n",
            "Ukraine period R2: -0.003026647703651353\n"
          ]
        }
      ],
      "source": [
        "# Regression evaluation\n",
        "reg_eval = RegressionEvaluator(predictionCol=\"prediction\", labelCol=\"label_regress\", metricName=\"rmse\")\n",
        "predictions_train = lr_model.transform(train_period_regress_scaled)\n",
        "predictions_train.select(\"label_regress\", \"prediction\").show(5)\n",
        "train_rmse = reg_eval.evaluate(predictions_train)\n",
        "train_r2 = reg_eval.setMetricName(\"r2\").evaluate(predictions_train)\n",
        "print(f\"Train period RMSE: {train_rmse}\")\n",
        "print(f\"Train period R2: {train_r2}\")\n",
        "\n",
        "# Stable period evaluation\n",
        "reg_eval = RegressionEvaluator(predictionCol=\"prediction\", labelCol=\"label_regress\", metricName=\"rmse\")\n",
        "predictions_stable = lr_model.transform(stable_period_regress_scaled)\n",
        "predictions_stable.select(\"label_regress\", \"prediction\").show(5)\n",
        "test_rmse = reg_eval.evaluate(predictions_stable)\n",
        "reg_eval.setMetricName(\"r2\")\n",
        "test_r2 = reg_eval.evaluate(predictions_stable)\n",
        "print(f\"Stable period RMSE: {test_rmse}\")\n",
        "print(f\"Stable period R2: {test_r2}\")\n",
        "\n",
        "# Evaluate on disruption periods\n",
        "reg_eval = RegressionEvaluator(predictionCol=\"prediction\", labelCol=\"label_regress\", metricName=\"rmse\")\n",
        "predictions_trade_war = lr_model.transform(trade_war_period_regress_scaled)\n",
        "predictions_trade_war.select(\"label_regress\", \"prediction\").show(5)\n",
        "trade_war_rmse = reg_eval.evaluate(predictions_trade_war)\n",
        "trade_war_r2 = reg_eval.setMetricName(\"r2\").evaluate(predictions_trade_war)\n",
        "print(f\"Trade War period RMSE: {trade_war_rmse}\")\n",
        "print(f\"Trade War period R2: {trade_war_r2}\")\n",
        "\n",
        "reg_eval = RegressionEvaluator(predictionCol=\"prediction\", labelCol=\"label_regress\", metricName=\"rmse\")\n",
        "predictions_covid = lr_model.transform(covid_period_regress_scaled)\n",
        "predictions_covid.select(\"label_regress\", \"prediction\").show(5)\n",
        "covid_rmse = reg_eval.evaluate(predictions_covid)\n",
        "covid_r2 = reg_eval.setMetricName(\"r2\").evaluate(predictions_covid)\n",
        "print(f\"COVID period RMSE: {covid_rmse}\")\n",
        "print(f\"COVID period R2: {covid_r2}\")\n",
        "\n",
        "reg_eval = RegressionEvaluator(predictionCol=\"prediction\", labelCol=\"label_regress\", metricName=\"rmse\")\n",
        "predictions_ukraine = lr_model.transform(ukraine_period_regress_scaled)\n",
        "predictions_ukraine.select(\"label_regress\", \"prediction\").show(5)\n",
        "ukraine_rmse = reg_eval.evaluate(predictions_ukraine)\n",
        "ukraine_r2 = reg_eval.setMetricName(\"r2\").evaluate(predictions_ukraine)\n",
        "print(f\"Ukraine period RMSE: {ukraine_rmse}\")\n",
        "print(f\"Ukraine period R2: {ukraine_r2}\")"
      ]
    },
    {
      "cell_type": "markdown",
      "metadata": {},
      "source": [
        "### Logistic Regression (SCALED)"
      ]
    },
    {
      "cell_type": "code",
      "execution_count": 18,
      "metadata": {},
      "outputs": [],
      "source": [
        "# Logistic Regression (Classification: price up/down)\n",
        "logr = LogisticRegression(featuresCol=\"scaled_features\", labelCol=\"label_class\")\n",
        "logr_model = logr.fit(train_period_class_scaled)"
      ]
    },
    {
      "cell_type": "code",
      "execution_count": 19,
      "metadata": {},
      "outputs": [
        {
          "name": "stdout",
          "output_type": "stream",
          "text": [
            "+-----------+----------+--------------------+\n",
            "|label_class|prediction|         probability|\n",
            "+-----------+----------+--------------------+\n",
            "|          1|       1.0|[0.47939231366643...|\n",
            "|          0|       1.0|[0.48989482280970...|\n",
            "|          1|       1.0|[0.47859657797948...|\n",
            "|          1|       1.0|[0.48592292601277...|\n",
            "|          0|       1.0|[0.48943832591800...|\n",
            "+-----------+----------+--------------------+\n",
            "only showing top 5 rows\n",
            "\n",
            "Train period Accuracy: 0.5180\n",
            "Train period F1 Score: 0.4018\n",
            "+-----------+----------+--------------------+\n",
            "|label_class|prediction|         probability|\n",
            "+-----------+----------+--------------------+\n",
            "|          1|       1.0|[0.48227821906984...|\n",
            "|          1|       1.0|[0.48599806102619...|\n",
            "|          1|       1.0|[0.48873591464088...|\n",
            "|          1|       1.0|[0.48794807122813...|\n",
            "|          1|       1.0|[0.48418757608658...|\n",
            "+-----------+----------+--------------------+\n",
            "only showing top 5 rows\n",
            "\n",
            "Stable period Accuracy: 0.5388\n",
            "Stable period F1 Score: 0.4142\n",
            "+-----------+----------+--------------------+\n",
            "|label_class|prediction|         probability|\n",
            "+-----------+----------+--------------------+\n",
            "|          1|       1.0|[0.48125170876053...|\n",
            "|          1|       1.0|[0.48423689074668...|\n",
            "|          0|       1.0|[0.48858006400943...|\n",
            "|          0|       1.0|[0.48286973208145...|\n",
            "|          0|       1.0|[0.48220546447758...|\n",
            "+-----------+----------+--------------------+\n",
            "only showing top 5 rows\n",
            "\n",
            "Trade War period Accuracy: 0.5337\n",
            "Trade War period F1 Score: 0.4325\n",
            "+-----------+----------+--------------------+\n",
            "|label_class|prediction|         probability|\n",
            "+-----------+----------+--------------------+\n",
            "|          1|       1.0|[0.48318376877357...|\n",
            "|          1|       1.0|[0.47832472808159...|\n",
            "|          0|       1.0|[0.48876606022416...|\n",
            "|          1|       1.0|[0.48147438579819...|\n",
            "|          0|       0.0|[0.50073756890153...|\n",
            "+-----------+----------+--------------------+\n",
            "only showing top 5 rows\n",
            "\n",
            "COVID period Accuracy: 0.5387\n",
            "COVID period F1 Score: 0.4810\n",
            "+-----------+----------+--------------------+\n",
            "|label_class|prediction|         probability|\n",
            "+-----------+----------+--------------------+\n",
            "|          0|       1.0|[0.48868322763956...|\n",
            "|          0|       1.0|[0.48665395748761...|\n",
            "|          0|       1.0|[0.48826689489443...|\n",
            "|          1|       1.0|[0.47890286028088...|\n",
            "|          1|       1.0|[0.49528381445380...|\n",
            "+-----------+----------+--------------------+\n",
            "only showing top 5 rows\n",
            "\n",
            "Ukraine period Accuracy: 0.4970\n",
            "Ukraine period F1 Score: 0.4321\n"
          ]
        }
      ],
      "source": [
        "# Classification evaluation\n",
        "cls_eval = MulticlassClassificationEvaluator(predictionCol=\"prediction\", labelCol=\"label_class\", metricName=\"accuracy\")\n",
        "predictions_train = logr_model.transform(train_period_class_scaled)\n",
        "predictions_train.select(\"label_class\", \"prediction\", \"probability\").show(5)\n",
        "train_accuracy = cls_eval.evaluate(predictions_train)\n",
        "train_f1 = cls_eval.setMetricName(\"f1\").evaluate(predictions_train)\n",
        "print(f\"Train period Accuracy: {train_accuracy:.4f}\")\n",
        "print(f\"Train period F1 Score: {train_f1:.4f}\")\n",
        "\n",
        "# Stable period evaluation\n",
        "cls_eval = MulticlassClassificationEvaluator(predictionCol=\"prediction\", labelCol=\"label_class\", metricName=\"accuracy\")\n",
        "predictions_stable = logr_model.transform(stable_period_class_scaled)\n",
        "predictions_stable.select(\"label_class\", \"prediction\", \"probability\").show(5)\n",
        "stable_accuracy = cls_eval.evaluate(predictions_stable)\n",
        "stable_f1 = cls_eval.setMetricName(\"f1\").evaluate(predictions_stable)\n",
        "print(f\"Stable period Accuracy: {stable_accuracy:.4f}\")\n",
        "print(f\"Stable period F1 Score: {stable_f1:.4f}\")\n",
        "\n",
        "# Evaluate on disruption periods\n",
        "cls_eval = MulticlassClassificationEvaluator(predictionCol=\"prediction\", labelCol=\"label_class\", metricName=\"accuracy\")\n",
        "predictions_trade_war = logr_model.transform(trade_war_period_class_scaled)\n",
        "predictions_trade_war.select(\"label_class\", \"prediction\", \"probability\").show(5)\n",
        "trade_war_accuracy = cls_eval.evaluate(predictions_trade_war)\n",
        "trade_war_f1 = cls_eval.setMetricName(\"f1\").evaluate(predictions_trade_war)\n",
        "print(f\"Trade War period Accuracy: {trade_war_accuracy:.4f}\")\n",
        "print(f\"Trade War period F1 Score: {trade_war_f1:.4f}\")\n",
        "\n",
        "cls_eval = MulticlassClassificationEvaluator(predictionCol=\"prediction\", labelCol=\"label_class\", metricName=\"accuracy\")\n",
        "predictions_covid = logr_model.transform(covid_period_class_scaled)\n",
        "predictions_covid.select(\"label_class\", \"prediction\", \"probability\").show(5)\n",
        "covid_accuracy = cls_eval.evaluate(predictions_covid)\n",
        "covid_f1 = cls_eval.setMetricName(\"f1\").evaluate(predictions_covid)\n",
        "print(f\"COVID period Accuracy: {covid_accuracy:.4f}\")\n",
        "print(f\"COVID period F1 Score: {covid_f1:.4f}\")\n",
        "\n",
        "cls_eval = MulticlassClassificationEvaluator(predictionCol=\"prediction\", labelCol=\"label_class\", metricName=\"accuracy\")\n",
        "predictions_ukraine = logr_model.transform(ukraine_period_class_scaled)\n",
        "predictions_ukraine.select(\"label_class\", \"prediction\", \"probability\").show(5)\n",
        "ukraine_accuracy = cls_eval.evaluate(predictions_ukraine)\n",
        "ukraine_f1 = cls_eval.setMetricName(\"f1\").evaluate(predictions_ukraine)\n",
        "print(f\"Ukraine period Accuracy: {ukraine_accuracy:.4f}\")\n",
        "print(f\"Ukraine period F1 Score: {ukraine_f1:.4f}\")"
      ]
    },
    {
      "cell_type": "markdown",
      "metadata": {},
      "source": [
        "### Confusion Matrix for Logistic Regression (SCALED)"
      ]
    },
    {
      "cell_type": "code",
      "execution_count": 20,
      "metadata": {},
      "outputs": [
        {
          "data": {
            "image/png": "[encoded data removed]",
            "text/plain": [
              "<Figure size 400x300 with 2 Axes>"
            ]
          },
          "metadata": {},
          "output_type": "display_data"
        }
      ],
      "source": [
        "# Select label and prediction\n",
        "preds_df = predictions_stable.select(\"label_class\", \"prediction\")\n",
        "preds_pd = preds_df.toPandas()\n",
        "\n",
        "# Get y_true and y_pred\n",
        "y_true = preds_pd['label_class']\n",
        "y_pred = preds_pd['prediction']\n",
        "\n",
        "# Build confusion matrix\n",
        "cm = confusion_matrix(y_true, y_pred)\n",
        "\n",
        "# Plot confusion matrix\n",
        "plt.figure(figsize=(4, 3))\n",
        "sns.heatmap(cm, annot=True, fmt=\"d\", cmap=\"Blues\", xticklabels=[0, 1], yticklabels=[0, 1])\n",
        "plt.xlabel('Predicted')\n",
        "plt.ylabel('Actual')\n",
        "plt.title('Confusion Matrix for Stable Period')\n",
        "plt.show()"
      ]
    },
    {
      "cell_type": "code",
      "execution_count": 21,
      "metadata": {},
      "outputs": [
        {
          "data": {
            "image/png": "[encoded data removed]",
            "text/plain": [
              "<Figure size 400x300 with 2 Axes>"
            ]
          },
          "metadata": {},
          "output_type": "display_data"
        }
      ],
      "source": [
        " # Select label and prediction\n",
        "preds_df = predictions_trade_war.select(\"label_class\", \"prediction\")\n",
        "preds_pd = preds_df.toPandas()\n",
        "\n",
        "# Get y_true and y_pred\n",
        "y_true = preds_pd['label_class']\n",
        "y_pred = preds_pd['prediction']\n",
        "\n",
        "# Build confusion matrix\n",
        "cm = confusion_matrix(y_true, y_pred)\n",
        "\n",
        "# Plot confusion matrix\n",
        "plt.figure(figsize=(4, 3))\n",
        "sns.heatmap(cm, annot=True, fmt=\"d\", cmap=\"Blues\", xticklabels=[0, 1], yticklabels=[0, 1])\n",
        "plt.xlabel('Predicted')\n",
        "plt.ylabel('Actual')\n",
        "plt.title('Confusion Matrix for Trade War Period')\n",
        "plt.show()"
      ]
    },
    {
      "cell_type": "code",
      "execution_count": 22,
      "metadata": {},
      "outputs": [
        {
          "data": {
            "image/png": "[encoded data removed]",
            "text/plain": [
              "<Figure size 400x300 with 2 Axes>"
            ]
          },
          "metadata": {},
          "output_type": "display_data"
        }
      ],
      "source": [
        " # Select label and prediction\n",
        "preds_df = predictions_covid.select(\"label_class\", \"prediction\")\n",
        "preds_pd = preds_df.toPandas()\n",
        "\n",
        "# Get y_true and y_pred\n",
        "y_true = preds_pd['label_class']\n",
        "y_pred = preds_pd['prediction']\n",
        "\n",
        "# Build confusion matrix\n",
        "cm = confusion_matrix(y_true, y_pred)\n",
        "\n",
        "# Plot confusion matrix\n",
        "plt.figure(figsize=(4, 3))\n",
        "sns.heatmap(cm, annot=True, fmt=\"d\", cmap=\"Blues\", xticklabels=[0, 1], yticklabels=[0, 1])\n",
        "plt.xlabel('Predicted')\n",
        "plt.ylabel('Actual')\n",
        "plt.title('Confusion Matrix for COVID Period')\n",
        "plt.show()"
      ]
    },
    {
      "cell_type": "code",
      "execution_count": 23,
      "metadata": {},
      "outputs": [
        {
          "data": {
            "image/png": "[encoded data removed]",
            "text/plain": [
              "<Figure size 400x300 with 2 Axes>"
            ]
          },
          "metadata": {},
          "output_type": "display_data"
        }
      ],
      "source": [
        " # Select label and prediction\n",
        "preds_df = predictions_ukraine.select(\"label_class\", \"prediction\")\n",
        "preds_pd = preds_df.toPandas()\n",
        "\n",
        "# Get y_true and y_pred\n",
        "y_true = preds_pd['label_class']\n",
        "y_pred = preds_pd['prediction']\n",
        "\n",
        "# Build confusion matrix\n",
        "cm = confusion_matrix(y_true, y_pred)\n",
        "\n",
        "# Plot confusion matrix\n",
        "plt.figure(figsize=(4, 3))\n",
        "sns.heatmap(cm, annot=True, fmt=\"d\", cmap=\"Blues\", xticklabels=[0, 1], yticklabels=[0, 1])\n",
        "plt.xlabel('Predicted')\n",
        "plt.ylabel('Actual')\n",
        "plt.title('Confusion Matrix for Ukraine Period')\n",
        "plt.show()"
      ]
    },
    {
      "cell_type": "markdown",
      "metadata": {},
      "source": [
        "## Classification in 4 Ways"
      ]
    },
    {
      "cell_type": "markdown",
      "metadata": {},
      "source": [
        "### SCALED"
      ]
    },
    {
      "cell_type": "code",
      "execution_count": 25,
      "metadata": {},
      "outputs": [
        {
          "name": "stdout",
          "output_type": "stream",
          "text": [
            "\n",
            "Training LogisticRegression...\n",
            "Train period Accuracy: 0.5180\n",
            "Train period F1 Score: 0.4018\n",
            "Stable period Accuracy: 0.5388\n",
            "Stable period F1 Score: 0.4142\n",
            "Trade War period Accuracy: 0.5337\n",
            "Trade War period F1 Score: 0.4325\n",
            "COVID period Accuracy: 0.5387\n",
            "COVID period F1 Score: 0.4810\n",
            "Ukraine period Accuracy: 0.4969\n",
            "Ukraine period F1 Score: 0.4320\n",
            "\n",
            "Training RandomForestClassifier...\n",
            "Train period Accuracy: 0.5261\n",
            "Train period F1 Score: 0.4587\n",
            "Stable period Accuracy: 0.5336\n",
            "Stable period F1 Score: 0.4921\n",
            "Trade War period Accuracy: 0.5224\n",
            "Trade War period F1 Score: 0.4916\n",
            "COVID period Accuracy: 0.5421\n",
            "COVID period F1 Score: 0.5203\n",
            "Ukraine period Accuracy: 0.4898\n",
            "Ukraine period F1 Score: 0.4649\n",
            "\n",
            "Training GBTClassifier...\n",
            "Train period Accuracy: 0.5405\n",
            "Train period F1 Score: 0.5140\n",
            "Stable period Accuracy: 0.5244\n",
            "Stable period F1 Score: 0.5069\n",
            "Trade War period Accuracy: 0.5145\n",
            "Trade War period F1 Score: 0.4980\n",
            "COVID period Accuracy: 0.5230\n",
            "COVID period F1 Score: 0.5138\n",
            "Ukraine period Accuracy: 0.4988\n",
            "Ukraine period F1 Score: 0.4882\n",
            "\n",
            "Training DecisionTreeClassifier...\n",
            "Train period Accuracy: 0.5211\n",
            "Train period F1 Score: 0.5014\n",
            "Stable period Accuracy: 0.5280\n",
            "Stable period F1 Score: 0.4938\n",
            "Trade War period Accuracy: 0.5220\n",
            "Trade War period F1 Score: 0.4903\n",
            "COVID period Accuracy: 0.5398\n",
            "COVID period F1 Score: 0.5110\n",
            "Ukraine period Accuracy: 0.4831\n",
            "Ukraine period F1 Score: 0.4409\n"
          ]
        }
      ],
      "source": [
        "from pyspark.ml.classification import LogisticRegression, RandomForestClassifier, GBTClassifier, DecisionTreeClassifier\n",
        "\n",
        "classifiers = {\n",
        "    \"LogisticRegression\": LogisticRegression(featuresCol=\"scaled_features\", labelCol=\"label_class\"),\n",
        "    \"RandomForestClassifier\": RandomForestClassifier(featuresCol=\"scaled_features\", labelCol=\"label_class\"),\n",
        "    \"GBTClassifier\": GBTClassifier(featuresCol=\"scaled_features\", labelCol=\"label_class\"),\n",
        "    \"DecisionTreeClassifier\": DecisionTreeClassifier(featuresCol=\"scaled_features\", labelCol=\"label_class\"),\n",
        "}\n",
        "\n",
        "for name, model in classifiers.items():\n",
        "    print(f\"\\nTraining {name}...\")\n",
        "    clf_model = model.fit(train_period_class_scaled)\n",
        "\n",
        "    # Evaluate on training set\n",
        "    preds = clf_model.transform(train_period_class_scaled)\n",
        "    #preds.select(\"label_class\", \"prediction\", \"probability\").show(5)\n",
        "    cls_eval = MulticlassClassificationEvaluator(predictionCol=\"prediction\", labelCol=\"label_class\", metricName=\"accuracy\")\n",
        "    train_accuracy = cls_eval.evaluate(preds)\n",
        "    train_f1 = cls_eval.setMetricName(\"f1\").evaluate(preds)\n",
        "    print(f\"Train period Accuracy: {train_accuracy:.4f}\")\n",
        "    print(f\"Train period F1 Score: {train_f1:.4f}\")\n",
        "\n",
        "\n",
        "    # Evaluate on stable period\n",
        "    preds = clf_model.transform(stable_period_class_scaled)\n",
        "    #preds.select(\"label_class\", \"prediction\", \"probability\").show(5)\n",
        "    cls_eval = MulticlassClassificationEvaluator(predictionCol=\"prediction\", labelCol=\"label_class\", metricName=\"accuracy\")\n",
        "    stable_accuracy = cls_eval.evaluate(preds)\n",
        "    stable_f1 = cls_eval.setMetricName(\"f1\").evaluate(preds)\n",
        "    print(f\"Stable period Accuracy: {stable_accuracy:.4f}\")\n",
        "    print(f\"Stable period F1 Score: {stable_f1:.4f}\")\n",
        "\n",
        "    # Evaluate on trade war period\n",
        "    preds = clf_model.transform(trade_war_period_class_scaled)\n",
        "    #preds.select(\"label_class\", \"prediction\", \"probability\").show(5)\n",
        "    cls_eval = MulticlassClassificationEvaluator(predictionCol=\"prediction\", labelCol=\"label_class\", metricName=\"accuracy\")\n",
        "    trade_war_accuracy = cls_eval.evaluate(preds)\n",
        "    trade_war_f1 = cls_eval.setMetricName(\"f1\").evaluate(preds)\n",
        "    print(f\"Trade War period Accuracy: {trade_war_accuracy:.4f}\")\n",
        "    print(f\"Trade War period F1 Score: {trade_war_f1:.4f}\")\n",
        "\n",
        "    # Evaluate on COVID period\n",
        "    preds = clf_model.transform(covid_period_class_scaled)\n",
        "    #preds.select(\"label_class\", \"prediction\", \"probability\").show(5)\n",
        "    cls_eval = MulticlassClassificationEvaluator(predictionCol=\"prediction\", labelCol=\"label_class\", metricName=\"accuracy\")\n",
        "    covid_accuracy = cls_eval.evaluate(preds)\n",
        "    covid_f1 = cls_eval.setMetricName(\"f1\").evaluate(preds)\n",
        "    print(f\"COVID period Accuracy: {covid_accuracy:.4f}\")\n",
        "    print(f\"COVID period F1 Score: {covid_f1:.4f}\")\n",
        "\n",
        "    # Evaluate on Ukraine period\n",
        "    preds = clf_model.transform(ukraine_period_class_scaled)\n",
        "    #preds.select(\"label_class\", \"prediction\", \"probability\").show(5)\n",
        "    cls_eval = MulticlassClassificationEvaluator(predictionCol=\"prediction\", labelCol=\"label_class\", metricName=\"accuracy\")\n",
        "    ukraine_accuracy = cls_eval.evaluate(preds)\n",
        "    ukraine_f1 = cls_eval.setMetricName(\"f1\").evaluate(preds)\n",
        "    print(f\"Ukraine period Accuracy: {ukraine_accuracy:.4f}\")\n",
        "    print(f\"Ukraine period F1 Score: {ukraine_f1:.4f}\")\n",
        "\n",
        "\n"
      ]
    },
    {
      "cell_type": "markdown",
      "metadata": {},
      "source": []
    },
    {
      "cell_type": "code",
      "execution_count": null,
      "metadata": {},
      "outputs": [],
      "source": []
    },
    {
      "cell_type": "code",
      "execution_count": null,
      "metadata": {},
      "outputs": [],
      "source": []
    },
    {
      "cell_type": "markdown",
      "metadata": {},
      "source": [
        "### NON-SCALED"
      ]
    },
    {
      "cell_type": "code",
      "execution_count": 26,
      "metadata": {},
      "outputs": [
        {
          "name": "stdout",
          "output_type": "stream",
          "text": [
            "\n",
            "Training LogisticRegression...\n",
            "Train period Accuracy: 0.5179\n",
            "Train period F1 Score: 0.4017\n",
            "Stable period Accuracy: 0.5388\n",
            "Stable period F1 Score: 0.4143\n",
            "Trade War period Accuracy: 0.5337\n",
            "Trade War period F1 Score: 0.4326\n",
            "COVID period Accuracy: 0.5392\n",
            "COVID period F1 Score: 0.4819\n",
            "Ukraine period Accuracy: 0.4969\n",
            "Ukraine period F1 Score: 0.4324\n",
            "\n",
            "Training RandomForestClassifier...\n",
            "Train period Accuracy: 0.5273\n",
            "Train period F1 Score: 0.4527\n",
            "Stable period Accuracy: 0.5336\n",
            "Stable period F1 Score: 0.4822\n",
            "Trade War period Accuracy: 0.5239\n",
            "Trade War period F1 Score: 0.4809\n",
            "COVID period Accuracy: 0.5500\n",
            "COVID period F1 Score: 0.5198\n",
            "Ukraine period Accuracy: 0.4875\n",
            "Ukraine period F1 Score: 0.4423\n",
            "\n",
            "Training GBTClassifier...\n",
            "Train period Accuracy: 0.5403\n",
            "Train period F1 Score: 0.5072\n",
            "Stable period Accuracy: 0.5288\n",
            "Stable period F1 Score: 0.5008\n",
            "Trade War period Accuracy: 0.5238\n",
            "Trade War period F1 Score: 0.4971\n",
            "COVID period Accuracy: 0.5222\n",
            "COVID period F1 Score: 0.5083\n",
            "Ukraine period Accuracy: 0.5042\n",
            "Ukraine period F1 Score: 0.4874\n",
            "\n",
            "Training DecisionTreeClassifier...\n",
            "Train period Accuracy: 0.5215\n",
            "Train period F1 Score: 0.5139\n",
            "Stable period Accuracy: 0.5242\n",
            "Stable period F1 Score: 0.5099\n",
            "Trade War period Accuracy: 0.5207\n",
            "Trade War period F1 Score: 0.5017\n",
            "COVID period Accuracy: 0.5278\n",
            "COVID period F1 Score: 0.5050\n",
            "Ukraine period Accuracy: 0.4903\n",
            "Ukraine period F1 Score: 0.4429\n"
          ]
        }
      ],
      "source": [
        "from pyspark.ml.classification import LogisticRegression, RandomForestClassifier, GBTClassifier, DecisionTreeClassifier\n",
        "\n",
        "classifiers = {\n",
        "    \"LogisticRegression\": LogisticRegression(featuresCol=\"features\", labelCol=\"label_class\"),\n",
        "    \"RandomForestClassifier\": RandomForestClassifier(featuresCol=\"features\", labelCol=\"label_class\"),\n",
        "    \"GBTClassifier\": GBTClassifier(featuresCol=\"features\", labelCol=\"label_class\"),\n",
        "    \"DecisionTreeClassifier\": DecisionTreeClassifier(featuresCol=\"features\", labelCol=\"label_class\"),\n",
        "}\n",
        "\n",
        "for name, model in classifiers.items():\n",
        "    print(f\"\\nTraining {name}...\")\n",
        "    clf_model = model.fit(train_period_class)\n",
        "\n",
        "    # Evaluate on training set\n",
        "    preds = clf_model.transform(train_period_class)\n",
        "    #preds.select(\"label_class\", \"prediction\", \"probability\").show(5)\n",
        "    cls_eval = MulticlassClassificationEvaluator(predictionCol=\"prediction\", labelCol=\"label_class\", metricName=\"accuracy\")\n",
        "    train_accuracy = cls_eval.evaluate(preds)\n",
        "    train_f1 = cls_eval.setMetricName(\"f1\").evaluate(preds)\n",
        "    print(f\"Train period Accuracy: {train_accuracy:.4f}\")\n",
        "    print(f\"Train period F1 Score: {train_f1:.4f}\")\n",
        "    \n",
        "\n",
        "    # Evaluate on stable period\n",
        "    preds = clf_model.transform(stable_period_class)\n",
        "    #preds.select(\"label_class\", \"prediction\", \"probability\").show(5)\n",
        "    cls_eval = MulticlassClassificationEvaluator(predictionCol=\"prediction\", labelCol=\"label_class\", metricName=\"accuracy\")\n",
        "    stable_accuracy = cls_eval.evaluate(preds)\n",
        "    stable_f1 = cls_eval.setMetricName(\"f1\").evaluate(preds)\n",
        "    print(f\"Stable period Accuracy: {stable_accuracy:.4f}\")\n",
        "    print(f\"Stable period F1 Score: {stable_f1:.4f}\")\n",
        "\n",
        "    # Evaluate on trade war period\n",
        "    preds = clf_model.transform(trade_war_period_class)\n",
        "    #preds.select(\"label_class\", \"prediction\", \"probability\").show(5)\n",
        "    cls_eval = MulticlassClassificationEvaluator(predictionCol=\"prediction\", labelCol=\"label_class\", metricName=\"accuracy\")\n",
        "    trade_war_accuracy = cls_eval.evaluate(preds)\n",
        "    trade_war_f1 = cls_eval.setMetricName(\"f1\").evaluate(preds)\n",
        "    print(f\"Trade War period Accuracy: {trade_war_accuracy:.4f}\")\n",
        "    print(f\"Trade War period F1 Score: {trade_war_f1:.4f}\")\n",
        "\n",
        "    # Evaluate on COVID period\n",
        "    preds = clf_model.transform(covid_period_class)\n",
        "    #preds.select(\"label_class\", \"prediction\", \"probability\").show(5)\n",
        "    cls_eval = MulticlassClassificationEvaluator(predictionCol=\"prediction\", labelCol=\"label_class\", metricName=\"accuracy\")\n",
        "    covid_accuracy = cls_eval.evaluate(preds)\n",
        "    covid_f1 = cls_eval.setMetricName(\"f1\").evaluate(preds)\n",
        "    print(f\"COVID period Accuracy: {covid_accuracy:.4f}\")\n",
        "    print(f\"COVID period F1 Score: {covid_f1:.4f}\")\n",
        "\n",
        "    # Evaluate on Ukraine period\n",
        "    preds = clf_model.transform(ukraine_period_class)\n",
        "    #preds.select(\"label_class\", \"prediction\", \"probability\").show(5)\n",
        "    cls_eval = MulticlassClassificationEvaluator(predictionCol=\"prediction\", labelCol=\"label_class\", metricName=\"accuracy\")\n",
        "    ukraine_accuracy = cls_eval.evaluate(preds)\n",
        "    ukraine_f1 = cls_eval.setMetricName(\"f1\").evaluate(preds)\n",
        "    print(f\"Ukraine period Accuracy: {ukraine_accuracy:.4f}\")\n",
        "    print(f\"Ukraine period F1 Score: {ukraine_f1:.4f}\")\n",
        "\n",
        "\n"
      ]
    },
    {
      "cell_type": "markdown",
      "metadata": {},
      "source": [
        "## Regression in 4 Ways"
      ]
    },
    {
      "cell_type": "markdown",
      "metadata": {},
      "source": [
        "### SCALED"
      ]
    },
    {
      "cell_type": "code",
      "execution_count": 27,
      "metadata": {},
      "outputs": [
        {
          "name": "stdout",
          "output_type": "stream",
          "text": [
            "\n",
            "Training LinearRegression...\n",
            "Train period RMSE: 0.030711238257194497\n",
            "Train period R2: 0.00678785930188841\n",
            "Stable period RMSE: 0.016305635365069977\n",
            "Stable period R2: -0.003796823640024538\n",
            "Trade War period RMSE: 0.016305635365069977\n",
            "Trade War period R2: -0.003796823640024538\n",
            "COVID period RMSE: 0.016305635365069977\n",
            "COVID period R2: -0.003796823640024538\n",
            "Ukraine period RMSE: 0.03149410225567793\n",
            "Ukraine period R2: -0.003026647703651353\n",
            "\n",
            "Training GBTRegressor...\n",
            "Train period RMSE: 0.02524134430278274\n",
            "Train period R2: 0.3290775461430271\n",
            "Stable period RMSE: 0.016699993430347667\n",
            "Stable period R2: -0.052938402191422984\n",
            "Trade War period RMSE: 0.016305635365069977\n",
            "Trade War period R2: -0.003796823640024538\n",
            "COVID period RMSE: 0.016305635365069977\n",
            "COVID period R2: -0.003796823640024538\n",
            "Ukraine period RMSE: 0.03150428251166911\n",
            "Ukraine period R2: -0.0036751956943892328\n",
            "\n",
            "Training RandomForestRegressor...\n",
            "Train period RMSE: 0.026609751845980214\n",
            "Train period R2: 0.2543603155158639\n",
            "Stable period RMSE: 0.016290896027146208\n",
            "Stable period R2: -0.0019828969554902542\n",
            "Trade War period RMSE: 0.016305635365069977\n",
            "Trade War period R2: -0.003796823640024538\n",
            "COVID period RMSE: 0.016305635365069977\n",
            "COVID period R2: -0.003796823640024538\n",
            "Ukraine period RMSE: 0.03146838507265496\n",
            "Ukraine period R2: -0.001389230772131489\n",
            "\n",
            "Training DecisionTreeRegressor...\n",
            "Train period RMSE: 0.03032686797286556\n",
            "Train period R2: 0.03149361944615814\n",
            "Stable period RMSE: 0.01708446124201609\n",
            "Stable period R2: -0.10197804109799424\n",
            "Trade War period RMSE: 0.016305635365069977\n",
            "Trade War period R2: -0.003796823640024538\n",
            "COVID period RMSE: 0.016305635365069977\n",
            "COVID period R2: -0.003796823640024538\n",
            "Ukraine period RMSE: 0.031475127360376096\n",
            "Ukraine period R2: -0.0018183838786587359\n"
          ]
        }
      ],
      "source": [
        "from pyspark.ml.regression import LinearRegression, GBTRegressor, RandomForestRegressor, DecisionTreeRegressor\n",
        "\n",
        "regressors = {\n",
        "    \"LinearRegression\": LinearRegression(featuresCol=\"scaled_features\", labelCol=\"label_regress\"),\n",
        "    \"GBTRegressor\": GBTRegressor(featuresCol=\"scaled_features\", labelCol=\"label_regress\"),\n",
        "    \"RandomForestRegressor\": RandomForestRegressor(featuresCol=\"scaled_features\", labelCol=\"label_regress\"),\n",
        "    \"DecisionTreeRegressor\": DecisionTreeRegressor(featuresCol=\"scaled_features\", labelCol=\"label_regress\")\n",
        "}\n",
        "\n",
        "for name, model in regressors.items():\n",
        "    print(f\"\\nTraining {name}...\")\n",
        "    reg_model = model.fit(train_period_regress_scaled)\n",
        "\n",
        "    # Evaluate on training set\n",
        "    preds = reg_model.transform(train_period_regress_scaled)\n",
        "    # preds.select(\"label_regress\", \"prediction\").show(5)\n",
        "    reg_eval = RegressionEvaluator(predictionCol=\"prediction\", labelCol=\"label_regress\", metricName=\"rmse\")\n",
        "    train_rmse = reg_eval.evaluate(preds)\n",
        "    reg_eval.setMetricName(\"r2\")\n",
        "    train_r2 = reg_eval.evaluate(preds)\n",
        "    print(f\"Train period RMSE: {train_rmse}\")\n",
        "    print(f\"Train period R2: {train_r2}\")\n",
        "\n",
        "    # Evaluate on stable period\n",
        "    preds = reg_model.transform(stable_period_regress_scaled)\n",
        "    # preds.select(\"label_regress\", \"prediction\").show(5)\n",
        "    reg_eval = RegressionEvaluator(predictionCol=\"prediction\", labelCol=\"label_regress\", metricName=\"rmse\")\n",
        "    stable_rmse = reg_eval.evaluate(preds)\n",
        "    stable_r2 = reg_eval.setMetricName(\"r2\").evaluate(preds)\n",
        "    print(f\"Stable period RMSE: {stable_rmse}\")\n",
        "    print(f\"Stable period R2: {stable_r2}\")\n",
        "\n",
        "    # Evaluate on trade war period\n",
        "    preds = reg_model.transform(trade_war_period_regress_scaled)\n",
        "    # preds.select(\"label_regress\", \"prediction\").show(5)\n",
        "    reg_eval = RegressionEvaluator(predictionCol=\"prediction\", labelCol=\"label_regress\", metricName=\"rmse\")\n",
        "    trade_war_rmse = reg_eval.evaluate(preds)\n",
        "    trade_war_r2 = reg_eval.setMetricName(\"r2\").evaluate(preds)\n",
        "    print(f\"Trade War period RMSE: {test_rmse}\")\n",
        "    print(f\"Trade War period R2: {test_r2}\")\n",
        "\n",
        "    # Evaluate on COVID period\n",
        "    preds = reg_model.transform(covid_period_regress_scaled)\n",
        "    # preds.select(\"label_regress\", \"prediction\").show(5)\n",
        "    reg_eval = RegressionEvaluator(predictionCol=\"prediction\", labelCol=\"label_regress\", metricName=\"rmse\")\n",
        "    covid_rmse = reg_eval.evaluate(preds)\n",
        "    covid_r2 = reg_eval.setMetricName(\"r2\").evaluate(preds)\n",
        "    print(f\"COVID period RMSE: {test_rmse}\")\n",
        "    print(f\"COVID period R2: {test_r2}\")\n",
        "\n",
        "    # Evaluate on Ukraine period\n",
        "    preds = reg_model.transform(ukraine_period_regress_scaled)\n",
        "    # preds.select(\"label_regress\", \"prediction\").show(5)\n",
        "    reg_eval = RegressionEvaluator(predictionCol=\"prediction\", labelCol=\"label_regress\", metricName=\"rmse\")\n",
        "    ukraine_rmse = reg_eval.evaluate(preds)\n",
        "    ukraine_r2 = reg_eval.setMetricName(\"r2\").evaluate(preds)\n",
        "    print(f\"Ukraine period RMSE: {ukraine_rmse}\")\n",
        "    print(f\"Ukraine period R2: {ukraine_r2}\")\n",
        "    \n",
        "\n",
        "\n"
      ]
    },
    {
      "cell_type": "code",
      "execution_count": null,
      "metadata": {},
      "outputs": [],
      "source": []
    },
    {
      "cell_type": "code",
      "execution_count": null,
      "metadata": {},
      "outputs": [],
      "source": []
    },
    {
      "cell_type": "code",
      "execution_count": null,
      "metadata": {},
      "outputs": [],
      "source": []
    },
    {
      "cell_type": "markdown",
      "metadata": {},
      "source": [
        "### NON-SCALED"
      ]
    },
    {
      "cell_type": "code",
      "execution_count": 28,
      "metadata": {},
      "outputs": [
        {
          "name": "stdout",
          "output_type": "stream",
          "text": [
            "\n",
            "Training LinearRegression...\n",
            "Train period RMSE: 0.030711238257194462\n",
            "Train period R2: 0.006787859301890742\n",
            "Stable period RMSE: 0.016305635365085842\n",
            "Stable period R2: -0.0037968236419778645\n",
            "Trade War period RMSE: 0.016305635365069977\n",
            "Trade War period R2: -0.003796823640024538\n",
            "COVID period RMSE: 0.016305635365069977\n",
            "COVID period R2: -0.003796823640024538\n",
            "Ukraine period RMSE: 0.03149410225567299\n",
            "Ukraine period R2: -0.0030266477033362715\n",
            "\n",
            "Training GBTRegressor...\n",
            "Train period RMSE: 0.027581270925564217\n",
            "Train period R2: 0.1989199548543633\n",
            "Stable period RMSE: 0.01670342395210695\n",
            "Stable period R2: -0.053371036984680265\n",
            "Trade War period RMSE: 0.016305635365069977\n",
            "Trade War period R2: -0.003796823640024538\n",
            "COVID period RMSE: 0.016305635365069977\n",
            "COVID period R2: -0.003796823640024538\n",
            "Ukraine period RMSE: 0.03147635985111241\n",
            "Ukraine period R2: -0.0018968430402712677\n",
            "\n",
            "Training RandomForestRegressor...\n",
            "Train period RMSE: 0.026842272547128246\n",
            "Train period R2: 0.2412723197192379\n",
            "Stable period RMSE: 0.01628900549354663\n",
            "Stable period R2: -0.001750353280119743\n",
            "Trade War period RMSE: 0.016305635365069977\n",
            "Trade War period R2: -0.003796823640024538\n",
            "COVID period RMSE: 0.016305635365069977\n",
            "COVID period R2: -0.003796823640024538\n",
            "Ukraine period RMSE: 0.03145287909484587\n",
            "Ukraine period R2: -0.0004026092102538126\n",
            "\n",
            "Training DecisionTreeRegressor...\n",
            "Train period RMSE: 0.03032839785720653\n",
            "Train period R2: 0.03139590146747162\n",
            "Stable period RMSE: 0.016703130798328324\n",
            "Stable period R2: -0.053334062889922595\n",
            "Trade War period RMSE: 0.016305635365069977\n",
            "Trade War period R2: -0.003796823640024538\n",
            "COVID period RMSE: 0.016305635365069977\n",
            "COVID period R2: -0.003796823640024538\n",
            "Ukraine period RMSE: 0.03147501714232772\n",
            "Ukraine period R2: -0.0018113676545457036\n"
          ]
        }
      ],
      "source": [
        "from pyspark.ml.regression import LinearRegression, GBTRegressor, RandomForestRegressor, DecisionTreeRegressor\n",
        "\n",
        "regressors = {\n",
        "    \"LinearRegression\": LinearRegression(featuresCol=\"features\", labelCol=\"label_regress\"),\n",
        "    \"GBTRegressor\": GBTRegressor(featuresCol=\"features\", labelCol=\"label_regress\"),\n",
        "    \"RandomForestRegressor\": RandomForestRegressor(featuresCol=\"features\", labelCol=\"label_regress\"),\n",
        "    \"DecisionTreeRegressor\": DecisionTreeRegressor(featuresCol=\"features\", labelCol=\"label_regress\")\n",
        "}\n",
        "\n",
        "for name, model in regressors.items():\n",
        "    print(f\"\\nTraining {name}...\")\n",
        "    reg_model = model.fit(train_period_regress)\n",
        "\n",
        "    # Evaluate on training set\n",
        "    preds = reg_model.transform(train_period_regress)\n",
        "    # preds.select(\"label_regress\", \"prediction\").show(5)\n",
        "    reg_eval = RegressionEvaluator(predictionCol=\"prediction\", labelCol=\"label_regress\", metricName=\"rmse\")\n",
        "    train_rmse = reg_eval.evaluate(preds)\n",
        "    reg_eval.setMetricName(\"r2\")\n",
        "    train_r2 = reg_eval.evaluate(preds)\n",
        "    print(f\"Train period RMSE: {train_rmse}\")\n",
        "    print(f\"Train period R2: {train_r2}\")\n",
        "\n",
        "    # Evaluate on stable period\n",
        "    preds = reg_model.transform(stable_period_regress)\n",
        "    # preds.select(\"label_regress\", \"prediction\").show(5)\n",
        "    reg_eval = RegressionEvaluator(predictionCol=\"prediction\", labelCol=\"label_regress\", metricName=\"rmse\")\n",
        "    stable_rmse = reg_eval.evaluate(preds)\n",
        "    stable_r2 = reg_eval.setMetricName(\"r2\").evaluate(preds)\n",
        "    print(f\"Stable period RMSE: {stable_rmse}\")\n",
        "    print(f\"Stable period R2: {stable_r2}\")\n",
        "\n",
        "    # Evaluate on trade war period\n",
        "    preds = reg_model.transform(trade_war_period_regress)\n",
        "    # preds.select(\"label_regress\", \"prediction\").show(5)\n",
        "    reg_eval = RegressionEvaluator(predictionCol=\"prediction\", labelCol=\"label_regress\", metricName=\"rmse\")\n",
        "    trade_war_rmse = reg_eval.evaluate(preds)\n",
        "    trade_war_r2 = reg_eval.setMetricName(\"r2\").evaluate(preds)\n",
        "    print(f\"Trade War period RMSE: {test_rmse}\")\n",
        "    print(f\"Trade War period R2: {test_r2}\")\n",
        "\n",
        "    # Evaluate on COVID period\n",
        "    preds = reg_model.transform(covid_period_regress)\n",
        "    # preds.select(\"label_regress\", \"prediction\").show(5)\n",
        "    reg_eval = RegressionEvaluator(predictionCol=\"prediction\", labelCol=\"label_regress\", metricName=\"rmse\")\n",
        "    covid_rmse = reg_eval.evaluate(preds)\n",
        "    covid_r2 = reg_eval.setMetricName(\"r2\").evaluate(preds)\n",
        "    print(f\"COVID period RMSE: {test_rmse}\")\n",
        "    print(f\"COVID period R2: {test_r2}\")\n",
        "\n",
        "    # Evaluate on Ukraine period\n",
        "    preds = reg_model.transform(ukraine_period_regress)\n",
        "    # preds.select(\"label_regress\", \"prediction\").show(5)\n",
        "    reg_eval = RegressionEvaluator(predictionCol=\"prediction\", labelCol=\"label_regress\", metricName=\"rmse\")\n",
        "    ukraine_rmse = reg_eval.evaluate(preds)\n",
        "    ukraine_r2 = reg_eval.setMetricName(\"r2\").evaluate(preds)\n",
        "    print(f\"Ukraine period RMSE: {ukraine_rmse}\")\n",
        "    print(f\"Ukraine period R2: {ukraine_r2}\")\n",
        "    \n",
        "\n",
        "\n"
      ]
    },
    {
      "cell_type": "code",
      "execution_count": null,
      "metadata": {},
      "outputs": [],
      "source": []
    },
    {
      "cell_type": "code",
      "execution_count": null,
      "metadata": {},
      "outputs": [],
      "source": []
    },
    {
      "cell_type": "code",
      "execution_count": null,
      "metadata": {},
      "outputs": [],
      "source": []
    },
    {
      "cell_type": "code",
      "execution_count": null,
      "metadata": {},
      "outputs": [],
      "source": []
    },
    {
      "cell_type": "code",
      "execution_count": null,
      "metadata": {},
      "outputs": [],
      "source": []
    },
    {
      "cell_type": "code",
      "execution_count": null,
      "metadata": {},
      "outputs": [],
      "source": []
    },
    {
      "cell_type": "code",
      "execution_count": null,
      "metadata": {},
      "outputs": [],
      "source": []
    },
    {
      "cell_type": "code",
      "execution_count": null,
      "metadata": {},
      "outputs": [],
      "source": []
    },
    {
      "cell_type": "code",
      "execution_count": null,
      "metadata": {},
      "outputs": [],
      "source": []
    },
    {
      "cell_type": "code",
      "execution_count": null,
      "metadata": {},
      "outputs": [],
      "source": []
    },
    {
      "cell_type": "code",
      "execution_count": null,
      "metadata": {},
      "outputs": [],
      "source": []
    },
    {
      "cell_type": "code",
      "execution_count": null,
      "metadata": {
        "id": "l3L_pGIVkR2o"
      },
      "outputs": [],
      "source": [
        "def create_dataset_spark(df, look_back=5):\n",
        "\n",
        "    # Create lagged columns for ['close', 'open', 'high', 'low']\n",
        "    for col_name in ['close', 'open', 'high', 'low']:\n",
        "        for i in range(look_back):\n",
        "            df = df.withColumn(f'{col_name}_lag_{i}', lead(col(col_name), i).over(Window.orderBy(lit(0))))\n",
        "\n",
        "    # Add statistical features for each ['close', 'open', 'high', 'low']\n",
        "    for col_name in ['close', 'open', 'high', 'low']:\n",
        "        window_spec = Window.partitionBy(\"ticker\").orderBy(lit(0)).rowsBetween(0, look_back - 1)\n",
        "        df = df.withColumn(f'{col_name}_std', stddev(col(col_name)).over(window_spec))\n",
        "        df = df.withColumn(f'{col_name}_mean', mean(col(col_name)).over(window_spec))\n",
        "        df = df.withColumn(f'{col_name}_max', spark_max(col(col_name)).over(window_spec))\n",
        "        df = df.withColumn(f'{col_name}_min', spark_min(col(col_name)).over(window_spec))\n",
        "\n",
        "    # Create a column for the regression label (relative change in 'close')\n",
        "    df = df.withColumn('label',\n",
        "                       (lead(col('close'), look_back).over(Window.orderBy(lit(0))) -\n",
        "                        lead(col('close'), look_back - 1).over(Window.orderBy(lit(0)))) /\n",
        "                       lead(col('close'), look_back - 1).over(Window.orderBy(lit(0))))\n",
        "\n",
        "    # Create a column for the classification label (binary up/down)\n",
        "    df = df.withColumn('direction',\n",
        "                       (lead(col('close'), look_back).over(Window.orderBy(lit(0))) >\n",
        "                        lead(col('close'), look_back - 1).over(Window.orderBy(lit(0)))).cast('int'))\n",
        "\n",
        "    # Drop rows with null values in any of the lag, statistical, or label columns\n",
        "    feature_columns = [f'{col_name}_lag_{i}' for col_name in ['close', 'open', 'high', 'low'] for i in range(look_back)] + \\\n",
        "                      [f'{col_name}_{stat}' for col_name in ['close', 'open', 'high', 'low'] for stat in ['std', 'mean', 'max', 'min']]\n",
        "    df = df.dropna(subset=feature_columns + ['label', 'direction'])\n",
        "\n",
        "    # Combine all feature columns into a single features vector\n",
        "    assembler = VectorAssembler(inputCols=feature_columns, outputCol='features')\n",
        "    df = assembler.transform(df)\n",
        "\n",
        "    return df.select('features', 'label', 'direction')"
      ]
    },
    {
      "cell_type": "code",
      "execution_count": null,
      "metadata": {
        "id": "90cJVzmikUXV"
      },
      "outputs": [],
      "source": [
        "look_back = 5\n",
        "\n",
        "train_sdf = create_dataset_spark(train_df, look_back)\n",
        "test_sdf = create_dataset_spark(test_period, look_back)\n",
        "trade_war = create_dataset_spark(trade_war_period, look_back)\n",
        "covid = create_dataset_spark(covid_period, look_back)\n",
        "ukraine = create_dataset_spark(ukraine_period, look_back)"
      ]
    },
    {
      "cell_type": "code",
      "execution_count": null,
      "metadata": {
        "colab": {
          "base_uri": "https://localhost:8080/"
        },
        "id": "z2QFxRDuD-Dv",
        "outputId": "167c7383-f967-4fad-f63a-64d66d164573"
      },
      "outputs": [],
      "source": [
        "train_sdf.groupBy(\"direction\").count().orderBy(\"direction\").show()\n",
        "test_sdf.groupBy(\"direction\").count().orderBy(\"direction\").show()\n",
        "trade_war.groupBy(\"direction\").count().orderBy(\"direction\").show()\n",
        "covid.groupBy(\"direction\").count().orderBy(\"direction\").show()\n",
        "ukraine.groupBy(\"direction\").count().orderBy(\"direction\").show()"
      ]
    },
    {
      "cell_type": "code",
      "execution_count": null,
      "metadata": {
        "colab": {
          "base_uri": "https://localhost:8080/"
        },
        "id": "9Gz9lQ_oERYG",
        "outputId": "3c0f1109-152a-4095-bdd2-622b9e55ba0a"
      },
      "outputs": [],
      "source": [
        "train_sdf.select(\"label\").describe().show()\n"
      ]
    },
    {
      "cell_type": "code",
      "execution_count": null,
      "metadata": {
        "colab": {
          "base_uri": "https://localhost:8080/",
          "height": 1000
        },
        "id": "acl7mAkEGCBz",
        "outputId": "3f5cec32-c6d3-43b6-9267-e6b4b0e04eb1"
      },
      "outputs": [],
      "source": [
        "from pyspark.sql.functions import log1p, col\n",
        "\n",
        "# Assume 'df' is your DataFrame and 'close' is the column to scale\n",
        "train_sdf = train_sdf.withColumn(\"scaled_features\", log1p(col(\"features\")))\n",
        "test_sdf = test_sdf.withColumn(\"scaled_features\", log1p(col(\"features\")))\n",
        "trade_war = trade_war.withColumn(\"scaled_features\", log1p(col(\"features\")))\n",
        "covid = covid.withColumn(\"scaled_features\", log1p(col(\"features\")))\n",
        "ukraine = ukraine.withColumn(\"scaled_features\", log1p(col(\"features\")))"
      ]
    },
    {
      "cell_type": "code",
      "execution_count": null,
      "metadata": {
        "id": "97kBMkmtkWcI"
      },
      "outputs": [],
      "source": [
        "scaler = StandardScaler(inputCol=\"features\", outputCol=\"scaled_features\", withStd=True, withMean=True)\n",
        "scaler_model = scaler.fit(train_sdf)\n",
        "\n",
        "train_sdf = scaler_model.transform(train_sdf)\n",
        "test_sdf = scaler_model.transform(test_sdf)\n",
        "trade_war = scaler_model.transform(trade_war)\n",
        "covid = scaler_model.transform(covid)\n",
        "ukraine = scaler_model.transform(ukraine)"
      ]
    },
    {
      "cell_type": "markdown",
      "metadata": {},
      "source": [
        "### S Linear Regression "
      ]
    },
    {
      "cell_type": "code",
      "execution_count": null,
      "metadata": {
        "id": "pPnyYo6SD3LZ"
      },
      "outputs": [],
      "source": [
        "# Linear Regression\n",
        "lr = LinearRegression(featuresCol=\"scaled_features\", labelCol=\"label\")\n",
        "lr_model = lr.fit(train_sdf)"
      ]
    },
    {
      "cell_type": "code",
      "execution_count": null,
      "metadata": {
        "colab": {
          "base_uri": "https://localhost:8080/"
        },
        "id": "5BY8PkeekZ3q",
        "outputId": "9fe13df4-1276-4a15-d481-20fdeff2128b"
      },
      "outputs": [],
      "source": [
        "# Regression evaluation\n",
        "reg_eval = RegressionEvaluator(predictionCol=\"prediction\", labelCol=\"label\", metricName=\"rmse\")\n",
        "predictions_train = lr_model.transform(train_sdf)\n",
        "predictions_train.select(\"label\", \"prediction\").show(5)\n",
        "train_rmse = reg_eval.evaluate(predictions_train)\n",
        "train_r2 = reg_eval.setMetricName(\"r2\").evaluate(predictions_train)\n",
        "print(f\"Train RMSE: {train_rmse}\")\n",
        "print(f\"Train R2: {train_r2}\")\n",
        "\n",
        "# Test set evaluation\n",
        "reg_eval = RegressionEvaluator(predictionCol=\"prediction\", labelCol=\"label\", metricName=\"rmse\")\n",
        "predictions_test = lr_model.transform(test_sdf)\n",
        "predictions_test.select(\"label\", \"prediction\").show(5)\n",
        "test_rmse = reg_eval.evaluate(predictions_test)\n",
        "reg_eval.setMetricName(\"r2\")\n",
        "test_r2 = reg_eval.evaluate(predictions_test)\n",
        "print(f\"Test RMSE: {test_rmse}\")\n",
        "print(f\"Test R2: {test_r2}\")\n",
        "\n",
        "# Evaluate on disruption periods\n",
        "reg_eval = RegressionEvaluator(predictionCol=\"prediction\", labelCol=\"label\", metricName=\"rmse\")\n",
        "predictions_trade_war = lr_model.transform(trade_war)\n",
        "predictions_trade_war.select(\"label\", \"prediction\").show(5)\n",
        "trade_war_rmse = reg_eval.evaluate(predictions_trade_war)\n",
        "trade_war_r2 = reg_eval.setMetricName(\"r2\").evaluate(predictions_trade_war)\n",
        "print(f\"Trade War RMSE: {trade_war_rmse}\")\n",
        "print(f\"Trade War R2: {trade_war_r2}\")\n",
        "\n",
        "reg_eval = RegressionEvaluator(predictionCol=\"prediction\", labelCol=\"label\", metricName=\"rmse\")\n",
        "predictions_covid = lr_model.transform(covid)\n",
        "predictions_covid.select(\"label\", \"prediction\").show(5)\n",
        "covid_rmse = reg_eval.evaluate(predictions_covid)\n",
        "covid_r2 = reg_eval.setMetricName(\"r2\").evaluate(predictions_covid)\n",
        "print(f\"COVID RMSE: {covid_rmse}\")\n",
        "print(f\"COVID R2: {covid_r2}\")\n",
        "\n",
        "reg_eval = RegressionEvaluator(predictionCol=\"prediction\", labelCol=\"label\", metricName=\"rmse\")\n",
        "predictions_ukraine = lr_model.transform(ukraine)\n",
        "predictions_ukraine.select(\"label\", \"prediction\").show(5)\n",
        "ukraine_rmse = reg_eval.evaluate(predictions_ukraine)\n",
        "ukraine_r2 = reg_eval.setMetricName(\"r2\").evaluate(predictions_ukraine)\n",
        "print(f\"Ukraine RMSE: {ukraine_rmse}\")\n",
        "print(f\"Ukraine R2: {ukraine_r2}\")"
      ]
    },
    {
      "cell_type": "code",
      "execution_count": null,
      "metadata": {
        "id": "Q798u0SBkb9N"
      },
      "outputs": [],
      "source": [
        "# Logistic Regression (Classification: price up/down)\n",
        "logr = LogisticRegression(featuresCol=\"scaled_features\", labelCol=\"direction\")\n",
        "logr_model = logr.fit(train_sdf)"
      ]
    },
    {
      "cell_type": "code",
      "execution_count": null,
      "metadata": {
        "colab": {
          "base_uri": "https://localhost:8080/"
        },
        "id": "o8kEpzJLD-lG",
        "outputId": "28ed6d67-ebc7-4bdb-da7c-8cedfd26a6f5"
      },
      "outputs": [],
      "source": [
        "# Classification evaluation\n",
        "cls_eval = MulticlassClassificationEvaluator(predictionCol=\"prediction\", labelCol=\"direction\", metricName=\"accuracy\")\n",
        "predictions_train = logr_model.transform(train_sdf)\n",
        "predictions_train.select(\"direction\", \"prediction\", \"probability\").show(5)\n",
        "train_accuracy = cls_eval.evaluate(predictions_train)\n",
        "train_f1 = cls_eval.setMetricName(\"f1\").evaluate(predictions_train)\n",
        "print(f\"Train Accuracy: {train_accuracy:.4f}\")\n",
        "print(f\"Train F1 Score: {train_f1:.4f}\")\n",
        "\n",
        "# Test set evaluation\n",
        "cls_eval = MulticlassClassificationEvaluator(predictionCol=\"prediction\", labelCol=\"direction\", metricName=\"accuracy\")\n",
        "predictions_test = logr_model.transform(test_sdf)\n",
        "predictions_test.select(\"direction\", \"prediction\", \"probability\").show(5)\n",
        "test_accuracy = cls_eval.evaluate(predictions_test)\n",
        "test_f1 = cls_eval.setMetricName(\"f1\").evaluate(predictions_test)\n",
        "print(f\"Test Accuracy: {test_accuracy:.4f}\")\n",
        "print(f\"Test F1 Score: {test_f1:.4f}\")\n",
        "\n",
        "# Evaluate on disruption periods\n",
        "cls_eval = MulticlassClassificationEvaluator(predictionCol=\"prediction\", labelCol=\"direction\", metricName=\"accuracy\")\n",
        "predictions_trade_war = logr_model.transform(trade_war)\n",
        "predictions_trade_war.select(\"direction\", \"prediction\", \"probability\").show(5)\n",
        "trade_war_accuracy = cls_eval.evaluate(predictions_trade_war)\n",
        "trade_war_f1 = cls_eval.setMetricName(\"f1\").evaluate(predictions_trade_war)\n",
        "print(f\"Trade War Accuracy: {trade_war_accuracy:.4f}\")\n",
        "print(f\"Trade War F1 Score: {trade_war_f1:.4f}\")\n",
        "\n",
        "cls_eval = MulticlassClassificationEvaluator(predictionCol=\"prediction\", labelCol=\"direction\", metricName=\"accuracy\")\n",
        "predictions_covid = logr_model.transform(covid)\n",
        "predictions_covid.select(\"direction\", \"prediction\", \"probability\").show(5)\n",
        "covid_accuracy = cls_eval.evaluate(predictions_covid)\n",
        "covid_f1 = cls_eval.setMetricName(\"f1\").evaluate(predictions_covid)\n",
        "print(f\"COVID Accuracy: {covid_accuracy:.4f}\")\n",
        "print(f\"COVID F1 Score: {covid_f1:.4f}\")\n",
        "\n",
        "cls_eval = MulticlassClassificationEvaluator(predictionCol=\"prediction\", labelCol=\"direction\", metricName=\"accuracy\")\n",
        "predictions_ukraine = logr_model.transform(ukraine)\n",
        "predictions_ukraine.select(\"direction\", \"prediction\", \"probability\").show(5)\n",
        "ukraine_accuracy = cls_eval.evaluate(predictions_ukraine)\n",
        "ukraine_f1 = cls_eval.setMetricName(\"f1\").evaluate(predictions_ukraine)\n",
        "print(f\"Ukraine Accuracy: {ukraine_accuracy:.4f}\")\n",
        "print(f\"Ukraine F1 Score: {ukraine_f1:.4f}\")"
      ]
    },
    {
      "cell_type": "code",
      "execution_count": null,
      "metadata": {
        "colab": {
          "base_uri": "https://localhost:8080/",
          "height": 333
        },
        "id": "OQLbWbd0kefd",
        "outputId": "349f91d0-e736-4b9f-9ed4-ce9f384c4d7f"
      },
      "outputs": [],
      "source": [
        "# Select label and prediction\n",
        "preds_df = predictions_test.select(\"direction\", \"prediction\")\n",
        "preds_pd = preds_df.toPandas()\n",
        "\n",
        "# Get y_true and y_pred\n",
        "y_true = preds_pd['direction']\n",
        "y_pred = preds_pd['prediction']\n",
        "\n",
        "# Build confusion matrix\n",
        "cm = confusion_matrix(y_true, y_pred)\n",
        "\n",
        "# Plot confusion matrix\n",
        "plt.figure(figsize=(4, 3))\n",
        "sns.heatmap(cm, annot=True, fmt=\"d\", cmap=\"Blues\", xticklabels=[0, 1], yticklabels=[0, 1])\n",
        "plt.xlabel('Predicted')\n",
        "plt.ylabel('Actual')\n",
        "plt.title('Confusion Matrix')\n",
        "plt.show()"
      ]
    },
    {
      "cell_type": "code",
      "execution_count": null,
      "metadata": {
        "colab": {
          "base_uri": "https://localhost:8080/"
        },
        "id": "-pC-oNI-V6bT",
        "outputId": "b56fe3b5-d2d3-4910-bcee-5325df77cf6a"
      },
      "outputs": [],
      "source": [
        "from pyspark.ml.regression import LinearRegression, GBTRegressor, RandomForestRegressor, DecisionTreeRegressor\n",
        "\n",
        "regressors = {\n",
        "    \"LinearRegression\": LinearRegression(featuresCol=\"scaled_features\", labelCol=\"label\"),\n",
        "    \"GBTRegressor\": GBTRegressor(featuresCol=\"scaled_features\", labelCol=\"label\"),\n",
        "    \"RandomForestRegressor\": RandomForestRegressor(featuresCol=\"scaled_features\", labelCol=\"label\"),\n",
        "    \"DecisionTreeRegressor\": DecisionTreeRegressor(featuresCol=\"scaled_features\", labelCol=\"label\")\n",
        "}\n",
        "\n",
        "for name, model in regressors.items():\n",
        "    print(f\"\\nTraining {name}...\")\n",
        "    reg_model = model.fit(train_sdf)\n",
        "    preds = reg_model.transform(test_sdf)\n",
        "    preds.select(\"label\", \"prediction\").show(5)\n",
        "    reg_eval = RegressionEvaluator(predictionCol=\"prediction\", labelCol=\"label\", metricName=\"rmse\")\n",
        "    test_rmse = reg_eval.evaluate(preds)\n",
        "    reg_eval.setMetricName(\"r2\")\n",
        "    test_r2 = reg_eval.evaluate(preds)\n",
        "    print(f\"Test RMSE: {test_rmse}\")\n",
        "    print(f\"Test R2: {test_r2}\")"
      ]
    },
    {
      "cell_type": "code",
      "execution_count": null,
      "metadata": {
        "colab": {
          "base_uri": "https://localhost:8080/"
        },
        "id": "p-DO7jQ-q6Hr",
        "outputId": "02d816b9-b63c-4d03-9d1d-bf1d8ae9670d"
      },
      "outputs": [],
      "source": [
        "from pyspark.ml.classification import LogisticRegression, RandomForestClassifier, GBTClassifier, DecisionTreeClassifier\n",
        "\n",
        "classifiers = {\n",
        "    \"LogisticRegression\": LogisticRegression(featuresCol=\"scaled_features\", labelCol=\"direction\"),\n",
        "    \"RandomForestClassifier\": RandomForestClassifier(featuresCol=\"scaled_features\", labelCol=\"direction\"),\n",
        "    \"GBTClassifier\": GBTClassifier(featuresCol=\"scaled_features\", labelCol=\"direction\"),\n",
        "    \"DecisionTreeClassifier\": DecisionTreeClassifier(featuresCol=\"scaled_features\", labelCol=\"direction\")\n",
        "}\n",
        "\n",
        "for name, model in classifiers.items():\n",
        "    print(f\"\\nTraining {name}...\")\n",
        "    clf_model = model.fit(train_sdf)\n",
        "    preds = clf_model.transform(test_sdf)\n",
        "    preds.select(\"direction\", \"prediction\", \"probability\").show(5)\n",
        "    cls_eval = MulticlassClassificationEvaluator(predictionCol=\"prediction\", labelCol=\"direction\", metricName=\"accuracy\")\n",
        "    test_accuracy = cls_eval.evaluate(preds)\n",
        "    test_f1 = cls_eval.setMetricName(\"f1\").evaluate(preds)\n",
        "    print(f\"Test Accuracy: {test_accuracy:.4f}\")\n",
        "    print(f\"Test F1 Score: {test_f1:.4f}\")"
      ]
    },
    {
      "cell_type": "code",
      "execution_count": null,
      "metadata": {
        "id": "BxVxWKMbtpIJ"
      },
      "outputs": [],
      "source": []
    }
  ],
  "metadata": {
    "colab": {
      "provenance": []
    },
    "kernelspec": {
      "display_name": "BDPA",
      "language": "python",
      "name": "python3"
    },
    "language_info": {
      "codemirror_mode": {
        "name": "ipython",
        "version": 3
      },
      "file_extension": ".py",
      "mimetype": "text/x-python",
      "name": "python",
      "nbconvert_exporter": "python",
      "pygments_lexer": "ipython3",
      "version": "3.12.4"
    }
  },
  "nbformat": 4,
  "nbformat_minor": 0
}
